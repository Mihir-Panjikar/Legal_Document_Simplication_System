{
 "cells": [
  {
   "cell_type": "code",
   "execution_count": 21,
   "id": "cdbb9286-3bfa-489f-a079-42e3561e3a43",
   "metadata": {},
   "outputs": [],
   "source": [
    "from transformers import BertModel, GPT2LMHeadModel, GPT2Config, AutoTokenizer\n",
    "import torch"
   ]
  },
  {
   "cell_type": "code",
   "execution_count": 11,
   "id": "980ba098-dca0-4b67-87be-212606fe32d4",
   "metadata": {},
   "outputs": [],
   "source": [
    "# Load InLegalBERT as Encoder\n",
    "encoder = BertModel.from_pretrained(\"../InLegalBERT\")\n",
    "encoder_tokenizer = AutoTokenizer.from_pretrained(\"../InLegalBERT\")"
   ]
  },
  {
   "cell_type": "code",
   "execution_count": 23,
   "id": "75ba3025-58bc-4c1d-a5ee-ff64b6c6915d",
   "metadata": {},
   "outputs": [
    {
     "name": "stderr",
     "output_type": "stream",
     "text": [
      "Some weights of GPT2LMHeadModel were not initialized from the model checkpoint at ../gpt2 and are newly initialized: ['h.0.crossattention.c_attn.bias', 'h.0.crossattention.c_attn.weight', 'h.0.crossattention.c_proj.bias', 'h.0.crossattention.c_proj.weight', 'h.0.crossattention.q_attn.bias', 'h.0.crossattention.q_attn.weight', 'h.0.ln_cross_attn.bias', 'h.0.ln_cross_attn.weight', 'h.1.crossattention.c_attn.bias', 'h.1.crossattention.c_attn.weight', 'h.1.crossattention.c_proj.bias', 'h.1.crossattention.c_proj.weight', 'h.1.crossattention.q_attn.bias', 'h.1.crossattention.q_attn.weight', 'h.1.ln_cross_attn.bias', 'h.1.ln_cross_attn.weight', 'h.10.crossattention.c_attn.bias', 'h.10.crossattention.c_attn.weight', 'h.10.crossattention.c_proj.bias', 'h.10.crossattention.c_proj.weight', 'h.10.crossattention.q_attn.bias', 'h.10.crossattention.q_attn.weight', 'h.10.ln_cross_attn.bias', 'h.10.ln_cross_attn.weight', 'h.11.crossattention.c_attn.bias', 'h.11.crossattention.c_attn.weight', 'h.11.crossattention.c_proj.bias', 'h.11.crossattention.c_proj.weight', 'h.11.crossattention.q_attn.bias', 'h.11.crossattention.q_attn.weight', 'h.11.ln_cross_attn.bias', 'h.11.ln_cross_attn.weight', 'h.2.crossattention.c_attn.bias', 'h.2.crossattention.c_attn.weight', 'h.2.crossattention.c_proj.bias', 'h.2.crossattention.c_proj.weight', 'h.2.crossattention.q_attn.bias', 'h.2.crossattention.q_attn.weight', 'h.2.ln_cross_attn.bias', 'h.2.ln_cross_attn.weight', 'h.3.crossattention.c_attn.bias', 'h.3.crossattention.c_attn.weight', 'h.3.crossattention.c_proj.bias', 'h.3.crossattention.c_proj.weight', 'h.3.crossattention.q_attn.bias', 'h.3.crossattention.q_attn.weight', 'h.3.ln_cross_attn.bias', 'h.3.ln_cross_attn.weight', 'h.4.crossattention.c_attn.bias', 'h.4.crossattention.c_attn.weight', 'h.4.crossattention.c_proj.bias', 'h.4.crossattention.c_proj.weight', 'h.4.crossattention.q_attn.bias', 'h.4.crossattention.q_attn.weight', 'h.4.ln_cross_attn.bias', 'h.4.ln_cross_attn.weight', 'h.5.crossattention.c_attn.bias', 'h.5.crossattention.c_attn.weight', 'h.5.crossattention.c_proj.bias', 'h.5.crossattention.c_proj.weight', 'h.5.crossattention.q_attn.bias', 'h.5.crossattention.q_attn.weight', 'h.5.ln_cross_attn.bias', 'h.5.ln_cross_attn.weight', 'h.6.crossattention.c_attn.bias', 'h.6.crossattention.c_attn.weight', 'h.6.crossattention.c_proj.bias', 'h.6.crossattention.c_proj.weight', 'h.6.crossattention.q_attn.bias', 'h.6.crossattention.q_attn.weight', 'h.6.ln_cross_attn.bias', 'h.6.ln_cross_attn.weight', 'h.7.crossattention.c_attn.bias', 'h.7.crossattention.c_attn.weight', 'h.7.crossattention.c_proj.bias', 'h.7.crossattention.c_proj.weight', 'h.7.crossattention.q_attn.bias', 'h.7.crossattention.q_attn.weight', 'h.7.ln_cross_attn.bias', 'h.7.ln_cross_attn.weight', 'h.8.crossattention.c_attn.bias', 'h.8.crossattention.c_attn.weight', 'h.8.crossattention.c_proj.bias', 'h.8.crossattention.c_proj.weight', 'h.8.crossattention.q_attn.bias', 'h.8.crossattention.q_attn.weight', 'h.8.ln_cross_attn.bias', 'h.8.ln_cross_attn.weight', 'h.9.crossattention.c_attn.bias', 'h.9.crossattention.c_attn.weight', 'h.9.crossattention.c_proj.bias', 'h.9.crossattention.c_proj.weight', 'h.9.crossattention.q_attn.bias', 'h.9.crossattention.q_attn.weight', 'h.9.ln_cross_attn.bias', 'h.9.ln_cross_attn.weight']\n",
      "You should probably TRAIN this model on a down-stream task to be able to use it for predictions and inference.\n"
     ]
    }
   ],
   "source": [
    "# Load GPT-2 as Decoder with Cross-Attention Enabled\n",
    "decoder_config = GPT2Config.from_pretrained(\"../gpt2\", add_cross_attention=True)\n",
    "decoder = GPT2LMHeadModel.from_pretrained(\"../gpt2\", config=decoder_config)\n",
    "decoder_tokenizer = AutoTokenizer.from_pretrained(\"../gpt2\")"
   ]
  },
  {
   "cell_type": "code",
   "execution_count": 15,
   "id": "d814730e-90cf-49dc-a40f-80eb258d71c8",
   "metadata": {},
   "outputs": [],
   "source": [
    "# Example Legal Text\n",
    "legal_text = \"The lessee shall not sublet the premises without prior written consent of the lessor.\""
   ]
  },
  {
   "cell_type": "code",
   "execution_count": 25,
   "id": "ee7487a2-cf7a-42d7-ae58-5cc3f409d4ba",
   "metadata": {},
   "outputs": [],
   "source": [
    "# Encode the Input with InLegalBERT\n",
    "inputs = encoder_tokenizer(legal_text, return_tensors=\"pt\", max_length=512, truncation=True, padding=\"max_length\")\n",
    "encoder_outputs = encoder(**inputs)"
   ]
  },
  {
   "cell_type": "code",
   "execution_count": 27,
   "id": "1c8ac1c1-f8e4-4fe0-a332-8fc33abd1bc4",
   "metadata": {},
   "outputs": [],
   "source": [
    "# Decode with GPT-2\n",
    "decoder_input_ids = decoder_tokenizer(\"<simplify>\", return_tensors=\"pt\").input_ids  # Special token to indicate simplification\n",
    "outputs = decoder(input_ids=decoder_input_ids, encoder_hidden_states=encoder_outputs.last_hidden_state)"
   ]
  },
  {
   "cell_type": "code",
   "execution_count": 29,
   "id": "50a2c62d-7c8e-4b41-b82c-851d116b334c",
   "metadata": {},
   "outputs": [
    {
     "name": "stdout",
     "output_type": "stream",
     "text": [
      "Simplified Text: \n",
      "plyify_ <\n"
     ]
    }
   ],
   "source": [
    "# Convert Tokens to Text\n",
    "simplified_text = decoder_tokenizer.decode(outputs.logits.argmax(dim=-1).squeeze(), skip_special_tokens=True)\n",
    "print(\"Simplified Text:\", simplified_text)"
   ]
  },
  {
   "cell_type": "code",
   "execution_count": null,
   "id": "678d8672-f7b2-4a56-aa21-3b13a5f7f96f",
   "metadata": {},
   "outputs": [],
   "source": []
  }
 ],
 "metadata": {
  "kernelspec": {
   "display_name": "ldss",
   "language": "python",
   "name": "ldss"
  },
  "language_info": {
   "codemirror_mode": {
    "name": "ipython",
    "version": 3
   },
   "file_extension": ".py",
   "mimetype": "text/x-python",
   "name": "python",
   "nbconvert_exporter": "python",
   "pygments_lexer": "ipython3",
   "version": "3.12.8"
  }
 },
 "nbformat": 4,
 "nbformat_minor": 5
}
