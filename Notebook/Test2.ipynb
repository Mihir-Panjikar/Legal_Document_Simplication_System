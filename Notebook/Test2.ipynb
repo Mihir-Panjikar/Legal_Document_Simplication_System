{
 "cells": [
  {
   "cell_type": "code",
   "execution_count": 1,
   "id": "2b818a82-aaf6-4e5c-9a9e-b39e995817b0",
   "metadata": {},
   "outputs": [
    {
     "name": "stderr",
     "output_type": "stream",
     "text": [
      "/home/harish/anaconda3/envs/ldss/lib/python3.12/site-packages/tqdm/auto.py:21: TqdmWarning: IProgress not found. Please update jupyter and ipywidgets. See https://ipywidgets.readthedocs.io/en/stable/user_install.html\n",
      "  from .autonotebook import tqdm as notebook_tqdm\n"
     ]
    }
   ],
   "source": [
    "from transformers import AutoTokenizer, AutoModel\n",
    "import torch"
   ]
  },
  {
   "cell_type": "code",
   "execution_count": 3,
   "id": "d729d7b7-1e5f-4210-a99e-6def4cc7645f",
   "metadata": {},
   "outputs": [],
   "source": [
    "tokenizer = AutoTokenizer.from_pretrained(\"../InLegalBERT\")\n",
    "model = AutoModel.from_pretrained(\"../InLegalBERT\")"
   ]
  },
  {
   "cell_type": "code",
   "execution_count": 5,
   "id": "526e5785-7813-47ae-9314-550b64ac4f80",
   "metadata": {},
   "outputs": [],
   "source": [
    "legal_text = \"The lessee shall maintain the premises in a habitable condition.\""
   ]
  },
  {
   "cell_type": "code",
   "execution_count": 7,
   "id": "03a23062-2bc3-4fdc-b555-f71161ea480e",
   "metadata": {},
   "outputs": [],
   "source": [
    "inputs = tokenizer(legal_text, return_tensors=\"pt\", padding=True, truncation=True)\n",
    "outputs = model(**inputs)"
   ]
  },
  {
   "cell_type": "code",
   "execution_count": 9,
   "id": "5145c58f-7d60-41dc-9999-58a669fea1d2",
   "metadata": {},
   "outputs": [],
   "source": [
    "embedding = outputs.last_hidden_state.mean(dim=1)"
   ]
  },
  {
   "cell_type": "code",
   "execution_count": 11,
   "id": "cb764970-bfaa-49b7-ae9e-b2260bcb4ce4",
   "metadata": {},
   "outputs": [],
   "source": [
    "embedding_list = embedding.detach().numpy().tolist()"
   ]
  },
  {
   "cell_type": "code",
   "execution_count": 13,
   "id": "4abca9e1-aaed-4d61-803f-3076d0ef9c59",
   "metadata": {},
   "outputs": [
    {
     "name": "stdout",
     "output_type": "stream",
     "text": [
      "Embedding Shape: 768\n"
     ]
    }
   ],
   "source": [
    "print(\"Embedding Shape:\", len(embedding_list[0]))"
   ]
  },
  {
   "cell_type": "code",
   "execution_count": null,
   "id": "6a4c5c5d-479d-409b-895e-fa6c007ae898",
   "metadata": {},
   "outputs": [],
   "source": []
  },
  {
   "cell_type": "code",
   "execution_count": 15,
   "id": "6c0ff560-72ea-4d4b-b28e-bea9c72991a6",
   "metadata": {},
   "outputs": [],
   "source": [
    "legal_text = \"This Agreement shall commence on the Effective Date and shall continue for a period of five (5) years unless earlier terminated in accordance with the provisions set forth herein. Either Party may terminate this Agreement upon thirty (30) days prior written notice to the other Party in the event of a material breach that remains uncured for a period of fifteen (15) days following written notice of such breach. In the event of termination, both Parties shall fulfill any obligations incurred prior to the effective date of termination. Furthermore, neither Party shall be liable to the other for any indirect, consequential, or punitive damages arising out of or in connection with this Agreement, except in cases of willful misconduct or gross negligence. Any disputes arising under this Agreement shall be resolved through binding arbitration in accordance with the rules of the American Arbitration Association, and the prevailing Party shall be entitled to recover reasonable attorneys’ fees and costs incurred in connection with such arbitration. This Agreement shall be governed by and construed in accordance with the laws of the State of New York, without regard to its conflict of law principles. If any provision of this Agreement is found to be invalid or unenforceable, the remaining provisions shall continue in full force and effect. No modification, amendment, or waiver of any provision of this Agreement shall be effective unless in writing and signed by both Parties. This Agreement constitutes the entire agreement between the Parties with respect to the subject matter herein and supersedes all prior and contemporaneous agreements, representations, and understandings, whether written or oral.\""
   ]
  },
  {
   "cell_type": "code",
   "execution_count": 17,
   "id": "360fc24a-aa42-4efc-b67d-1a621fa38a76",
   "metadata": {},
   "outputs": [],
   "source": [
    "from transformers import pipeline"
   ]
  },
  {
   "cell_type": "code",
   "execution_count": 19,
   "id": "55cc6acb-b4e7-45c9-8364-524beffc5fe0",
   "metadata": {},
   "outputs": [
    {
     "name": "stderr",
     "output_type": "stream",
     "text": [
      "Device set to use cuda:0\n"
     ]
    }
   ],
   "source": [
    "summarizer = pipeline(\"summarization\", model=\"facebook/bart-large-cnn\")"
   ]
  },
  {
   "cell_type": "code",
   "execution_count": 21,
   "id": "1c8c0652-3f33-4813-a6fe-9ede6b8bb055",
   "metadata": {},
   "outputs": [],
   "source": [
    "summary = summarizer(legal_text, max_length=100, min_length=20, do_sample=False)[0]['summary_text']"
   ]
  },
  {
   "cell_type": "code",
   "execution_count": 23,
   "id": "9aa33e9b-3b1f-4e79-b4d1-eaccda610307",
   "metadata": {},
   "outputs": [
    {
     "name": "stdout",
     "output_type": "stream",
     "text": [
      "Generated Summary: This Agreement shall commence on the Effective Date and shall continue for a period of five (5) years unless earlier terminated. Neither Party shall be liable to the other for any indirect, consequential, or punitive damages arising out of or in connection with this Agreement, except in cases of willful misconduct or gross negligence. Any disputes arising under this Agreement shall be resolved through binding arbitration in accordance with the rules of the American Arbitration Association.\n"
     ]
    }
   ],
   "source": [
    "print(\"Generated Summary:\", summary)"
   ]
  },
  {
   "cell_type": "code",
   "execution_count": null,
   "id": "dc06cab5-1512-4c03-b218-d4430dbb1acc",
   "metadata": {},
   "outputs": [],
   "source": []
  }
 ],
 "metadata": {
  "kernelspec": {
   "display_name": "ldss",
   "language": "python",
   "name": "ldss"
  },
  "language_info": {
   "codemirror_mode": {
    "name": "ipython",
    "version": 3
   },
   "file_extension": ".py",
   "mimetype": "text/x-python",
   "name": "python",
   "nbconvert_exporter": "python",
   "pygments_lexer": "ipython3",
   "version": "3.12.8"
  }
 },
 "nbformat": 4,
 "nbformat_minor": 5
}
